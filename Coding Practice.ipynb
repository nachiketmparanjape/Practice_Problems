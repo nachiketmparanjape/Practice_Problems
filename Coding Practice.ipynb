{
 "cells": [
  {
   "cell_type": "code",
   "execution_count": null,
   "metadata": {
    "collapsed": true
   },
   "outputs": [],
   "source": [
    "for i in xrange(5):\n",
    "    print i"
   ]
  },
  {
   "cell_type": "code",
   "execution_count": null,
   "metadata": {
    "collapsed": true
   },
   "outputs": [],
   "source": [
    "x = [1,2,3]\n",
    "x += [4,5]\n",
    "print x"
   ]
  },
  {
   "cell_type": "code",
   "execution_count": null,
   "metadata": {
    "collapsed": true
   },
   "outputs": [],
   "source": [
    "x[-5]"
   ]
  },
  {
   "cell_type": "code",
   "execution_count": null,
   "metadata": {
    "collapsed": true
   },
   "outputs": [],
   "source": [
    "x[:2]"
   ]
  },
  {
   "cell_type": "code",
   "execution_count": null,
   "metadata": {
    "collapsed": true
   },
   "outputs": [],
   "source": [
    "x[2:]"
   ]
  },
  {
   "cell_type": "code",
   "execution_count": null,
   "metadata": {
    "collapsed": true
   },
   "outputs": [],
   "source": [
    "10%10"
   ]
  },
  {
   "cell_type": "code",
   "execution_count": null,
   "metadata": {
    "collapsed": true
   },
   "outputs": [],
   "source": [
    "def plusOne(digits):\n",
    "        \"\"\"\n",
    "        :type digits: List[int]\n",
    "        :rtype: List[int]\n",
    "        \"\"\"\n",
    "        \n",
    "        if digits == [0]:\n",
    "            return [1]\n",
    "        \n",
    "        \n",
    "        one = 1\n",
    "        for i in range(1,len(digits)+1):\n",
    "            if one == 1:\n",
    "                addone = digits[-1*i]+1\n",
    "                digits[-1*i] = addone % 10\n",
    "                one = addone // 10\n",
    "                if i == len(digits) and one == 1:\n",
    "                    digits.insert(0, 1)\n",
    "        return digits"
   ]
  },
  {
   "cell_type": "code",
   "execution_count": null,
   "metadata": {
    "collapsed": true
   },
   "outputs": [],
   "source": [
    "plusOne([8,9,9,9])"
   ]
  },
  {
   "cell_type": "code",
   "execution_count": null,
   "metadata": {
    "collapsed": true
   },
   "outputs": [],
   "source": [
    "x = 3 > 5"
   ]
  },
  {
   "cell_type": "code",
   "execution_count": null,
   "metadata": {
    "collapsed": true
   },
   "outputs": [],
   "source": [
    "x"
   ]
  },
  {
   "cell_type": "code",
   "execution_count": 54,
   "metadata": {
    "collapsed": true
   },
   "outputs": [],
   "source": [
    "def searchInsert(nums, target):\n",
    "        \"\"\"\n",
    "        :type nums: List[int]\n",
    "        :type target: int\n",
    "        :rtype: int\n",
    "        \"\"\"\n",
    "        prev = True\n",
    "        for i in xrange(len(nums)):\n",
    "            curr = target > nums[i]\n",
    "            if curr != prev:\n",
    "                return i\n",
    "            elif target == nums[i]:\n",
    "                return i\n",
    "            prev = curr\n",
    "        if prev == True:\n",
    "            return len(nums)\n",
    "        else:\n",
    "            return 0"
   ]
  },
  {
   "cell_type": "code",
   "execution_count": 55,
   "metadata": {},
   "outputs": [
    {
     "data": {
      "text/plain": [
       "0"
      ]
     },
     "execution_count": 55,
     "metadata": {},
     "output_type": "execute_result"
    }
   ],
   "source": [
    "searchInsert([1,3,5,6], 0)"
   ]
  },
  {
   "cell_type": "code",
   "execution_count": 56,
   "metadata": {},
   "outputs": [
    {
     "data": {
      "text/plain": [
       "4"
      ]
     },
     "execution_count": 56,
     "metadata": {},
     "output_type": "execute_result"
    }
   ],
   "source": [
    "searchInsert([1,3,5,6], 7)"
   ]
  },
  {
   "cell_type": "code",
   "execution_count": 57,
   "metadata": {},
   "outputs": [
    {
     "data": {
      "text/plain": [
       "2"
      ]
     },
     "execution_count": 57,
     "metadata": {},
     "output_type": "execute_result"
    }
   ],
   "source": [
    "searchInsert([1,3,5,6], 5)"
   ]
  },
  {
   "cell_type": "code",
   "execution_count": null,
   "metadata": {
    "collapsed": true
   },
   "outputs": [],
   "source": [
    "class Solution:\n",
    "    def addTwoNumbers(self, l1, l2):\n",
    "        \"\"\"\n",
    "        :type l1: ListNode\n",
    "        :type l2: ListNode\n",
    "        :rtype: ListNode\n",
    "        \"\"\"\n",
    "        \n",
    "        head = None             # tracks head of result ListNode\n",
    "        last_node = None        # tracks the last added ListNode\n",
    "        \n",
    "        carry = 0               # stores the carry of summation \n",
    "        a = b = 0\n",
    "        \n",
    "        while l1 or l2:        # while both ListNode are not None\n",
    "            if l1:\n",
    "                a = l1.val\n",
    "                l1 = l1.next                    # next in ListNode l1\n",
    "            if l2:\n",
    "                b = l2.val\n",
    "                l2 = l2.next                    # next in ListNode l2\n",
    "                \n",
    "            sum = a + b + carry\n",
    "            carry, digit = divmod(sum, 10)      # new carry and sum's digit\n",
    "            \n",
    "            new_node = ListNode(digit)\n",
    "            if not head:                        # if first result ListNode\n",
    "                head = new_node\n",
    "            else:\n",
    "                last_node.next = new_node       # last node now points to new node\n",
    "            \n",
    "            last_node = new_node                # new node is now last node\n",
    "            \n",
    "            a = b = 0\n",
    "                \n",
    "                \n",
    "        if carry != 0:                          # if there is a carry at the end\n",
    "            new_node = ListNode(carry)          # add a new ListNode\n",
    "            last_node.next = new_node\n",
    "            last_node = new_node\n",
    "            \n",
    "        return head"
   ]
  },
  {
   "cell_type": "code",
   "execution_count": 58,
   "metadata": {
    "collapsed": true
   },
   "outputs": [],
   "source": [
    "# Count and Say\n",
    "\n",
    "def countAndSay(n):\n",
    "        \"\"\"\n",
    "        :type n: int\n",
    "        :rtype: str\n",
    "        \"\"\"\n",
    "        x = \"1\"\n",
    "        \n",
    "        for i in range(n-1):\n",
    "            xnext = \"\"\n",
    "            c = 1\n",
    "            for j in range(len(x)):\n",
    "                try:\n",
    "                    if x[j] == x[j+1]:\n",
    "                        c += 1\n",
    "                    else:\n",
    "                        xnext = xnext + str(c) + str(x[j])\n",
    "                        c = 1\n",
    "                except:\n",
    "                    xnext = xnext + str(c) + str(x[j])\n",
    "                    c = 1\n",
    "            x = xnext\n",
    "        \n",
    "        return x"
   ]
  },
  {
   "cell_type": "code",
   "execution_count": 59,
   "metadata": {},
   "outputs": [
    {
     "data": {
      "text/plain": [
       "'1211'"
      ]
     },
     "execution_count": 59,
     "metadata": {},
     "output_type": "execute_result"
    }
   ],
   "source": [
    "countAndSay(4)"
   ]
  },
  {
   "cell_type": "code",
   "execution_count": null,
   "metadata": {
    "collapsed": true
   },
   "outputs": [],
   "source": [
    "def lengthOfLastWord(s):\n",
    "        \"\"\"\n",
    "        :type s: str\n",
    "        :rtype: int\n",
    "        \"\"\"\n",
    "        count = 0\n",
    "        for i in reversed(s):\n",
    "            if i == \" \" and count != 0:\n",
    "                return count\n",
    "            elif i != \" \":\n",
    "                count += 1\n",
    "        return count\n",
    "            "
   ]
  },
  {
   "cell_type": "code",
   "execution_count": null,
   "metadata": {
    "collapsed": true
   },
   "outputs": [],
   "source": [
    "print(lengthOfLastWord('    '))"
   ]
  },
  {
   "cell_type": "code",
   "execution_count": null,
   "metadata": {
    "collapsed": true
   },
   "outputs": [],
   "source": [
    "def addBinary(a, b):\n",
    "        \"\"\"\n",
    "        :type a: str\n",
    "        :type b: str\n",
    "        :rtype: str\n",
    "        \"\"\"\n",
    "        output = \"\"\n",
    "        co = 0\n",
    "        for i in range(1,max(len(a),len(b))+1):\n",
    "            print output\n",
    "            try:\n",
    "                x = float(a[-i])\n",
    "            except:\n",
    "                x = 0\n",
    "            try:\n",
    "                y = float(b[-i])\n",
    "            except:\n",
    "                y = 0\n",
    "            output += str(int(x+y+co)%2)\n",
    "            co = (x+y+co)//2\n",
    "        if co == 1:\n",
    "            output += \"1\"\n",
    "        return output"
   ]
  },
  {
   "cell_type": "code",
   "execution_count": null,
   "metadata": {
    "collapsed": true
   },
   "outputs": [],
   "source": [
    "addBinary(\"100\",\"1\")"
   ]
  },
  {
   "cell_type": "code",
   "execution_count": null,
   "metadata": {
    "collapsed": true
   },
   "outputs": [],
   "source": [
    "import string\n",
    "def isPalindrome(s):\n",
    "        \"\"\"\n",
    "        :type s: str\n",
    "        :rtype: bool\n",
    "        \"\"\"\n",
    "\n",
    "        s = ''.join(x for x in s if x.isalnum())\n",
    "        s = s.lower()\n",
    "        if len(s) == 0:\n",
    "            return True\n",
    "        elif len(s) == 1:\n",
    "            return False\n",
    "        for i in range((len(s)+1)/2):\n",
    "            if s[i] != s[len(s)-1-i]:\n",
    "                return False\n",
    "        return True\n",
    "            "
   ]
  },
  {
   "cell_type": "code",
   "execution_count": null,
   "metadata": {
    "collapsed": true
   },
   "outputs": [],
   "source": [
    "isPalindrome(\"ramala bhala mara\")"
   ]
  },
  {
   "cell_type": "code",
   "execution_count": null,
   "metadata": {
    "collapsed": true
   },
   "outputs": [],
   "source": [
    "def isValid(s):\n",
    "        \"\"\"\n",
    "        :type s: str\n",
    "        :rtype: bool\n",
    "        \"\"\"\n",
    "        paropen = {\"(\":\")\",\"[\":\"]\",\"{\":\"}\"}\n",
    "        matchinglist = [\"\"]\n",
    "        \n",
    "        for p in s:\n",
    "            \n",
    "            if p in paropen.keys():\n",
    "                matchinglist.append(paropen[p])\n",
    "            elif p in paropen.values() and p != matchinglist.pop():\n",
    "                return False\n",
    "        return matchinglist == [\"\"]"
   ]
  },
  {
   "cell_type": "code",
   "execution_count": null,
   "metadata": {
    "collapsed": true
   },
   "outputs": [],
   "source": [
    "def longestCommonPrefix(strs):\n",
    "        \"\"\"\n",
    "        :type strs: List[str]\n",
    "        :rtype: str\n",
    "        \"\"\"\n",
    "        if len(strs) == 0:\n",
    "            return \"\"\n",
    "        shortest = min(strs, key=len)\n",
    "        i = 0\n",
    "        answer=\"\"\n",
    "        for letter in shortest:\n",
    "            for word in strs:\n",
    "                if word[i] != letter:\n",
    "                    return answer\n",
    "            answer = answer + word[i]\n",
    "            i += 1\n",
    "        return shortest"
   ]
  },
  {
   "cell_type": "code",
   "execution_count": null,
   "metadata": {
    "collapsed": true
   },
   "outputs": [],
   "source": [
    "def strStr(haystack, needle):\n",
    "        \"\"\"\n",
    "        :type haystack: str\n",
    "        :type needle: str\n",
    "        :rtype: int\n",
    "        \"\"\"\n",
    "        nsize = len(needle)\n",
    "        \n",
    "        for i in range(len(haystack)-nsize+1):\n",
    "            if needle == haystack[i:i+nsize]:\n",
    "                return i\n",
    "        return -1"
   ]
  },
  {
   "cell_type": "code",
   "execution_count": null,
   "metadata": {
    "collapsed": true
   },
   "outputs": [],
   "source": [
    "strStr('aaab','ab')"
   ]
  },
  {
   "cell_type": "code",
   "execution_count": null,
   "metadata": {
    "collapsed": true
   },
   "outputs": [],
   "source": [
    "def romanToInt(s):\n",
    "        d = {'I':1, 'V':5, 'X':10, 'L':50, 'C':100, 'D':500, 'M':1000}\n",
    "        \"\"\"\n",
    "        :type s: str\n",
    "        :rtype: int\n",
    "        \"\"\"\n",
    "        n_pre = 'M'\n",
    "        ret = 0\n",
    "        for n in s:\n",
    "            if d[n] > d[n_pre]:\n",
    "                ret -= d[n_pre]*2\n",
    "            ret += d[n]\n",
    "            n_pre = n\n",
    "        return ret"
   ]
  },
  {
   "cell_type": "code",
   "execution_count": null,
   "metadata": {
    "collapsed": true
   },
   "outputs": [],
   "source": [
    "romanToInt(\"III\")"
   ]
  },
  {
   "cell_type": "code",
   "execution_count": null,
   "metadata": {
    "collapsed": true
   },
   "outputs": [],
   "source": [
    "def reverseString(s):\n",
    "        \"\"\"\n",
    "        :type s: str\n",
    "        :rtype: str\n",
    "        \"\"\"\n",
    "        r = \"\"\n",
    "        for w in s:\n",
    "            r = w + r\n",
    "        return r"
   ]
  },
  {
   "cell_type": "code",
   "execution_count": null,
   "metadata": {
    "collapsed": true
   },
   "outputs": [],
   "source": [
    "reverseString(\"abcd\")"
   ]
  },
  {
   "cell_type": "code",
   "execution_count": null,
   "metadata": {
    "collapsed": true
   },
   "outputs": [],
   "source": [
    "def reverseStr(s, k):\n",
    "        \"\"\"\n",
    "        :type s: str\n",
    "        :type k: int\n",
    "        :rtype: str\n",
    "        \"\"\"\n",
    "        for i in range(0,len(s),2*k):\n",
    "            s = s[:i]+s[i:i+k][::-1]+s[i+k:]\n",
    "        return s"
   ]
  },
  {
   "cell_type": "code",
   "execution_count": null,
   "metadata": {
    "collapsed": true
   },
   "outputs": [],
   "source": [
    "reverseStr(\"abcdefg\",2)"
   ]
  },
  {
   "cell_type": "code",
   "execution_count": null,
   "metadata": {
    "collapsed": true
   },
   "outputs": [],
   "source": [
    "stri = 'abcd'"
   ]
  },
  {
   "cell_type": "code",
   "execution_count": null,
   "metadata": {
    "collapsed": true
   },
   "outputs": [],
   "source": [
    "stri[0:3:-1]"
   ]
  },
  {
   "cell_type": "code",
   "execution_count": null,
   "metadata": {
    "collapsed": true
   },
   "outputs": [],
   "source": [
    "def reverseVowels(s):\n",
    "        \"\"\"\n",
    "        :type s: str\n",
    "        :rtype: str\n",
    "        \"\"\"\n",
    "        left = 0\n",
    "        right = len(s)-1\n",
    "        \n",
    "        s = list(s)\n",
    "        \n",
    "        while left < right:\n",
    "            if s[left] not in 'aeiouAEIOU':\n",
    "                left += 1\n",
    "            elif s[right] not in 'aeiouAEIOU':\n",
    "                right -= 1\n",
    "            elif s[left] in 'aeiouAEIOU' and s[right] in 'aeiouAEIOU':\n",
    "                s[left],s[right] = s[right],s[left]\n",
    "                left += 1\n",
    "                right -= 1\n",
    "            \n",
    "        return \"\".join(i for i in s)"
   ]
  },
  {
   "cell_type": "code",
   "execution_count": null,
   "metadata": {
    "collapsed": true
   },
   "outputs": [],
   "source": [
    "reverseVowels('helloo')"
   ]
  },
  {
   "cell_type": "code",
   "execution_count": null,
   "metadata": {
    "collapsed": true
   },
   "outputs": [],
   "source": [
    "def canConstruct(ransomNote, magazine):\n",
    "        \"\"\"\n",
    "        :type ransomNote: str\n",
    "        :type magazine: str\n",
    "        :rtype: bool\n",
    "        \"\"\"\n",
    "        if len(ransomNote) > len(magazine):\n",
    "            return False\n",
    "        \n",
    "        d = {}\n",
    "        \n",
    "        for i in range(len(magazine)):\n",
    "            try:\n",
    "                d[magazine[i]] += 1\n",
    "            except:\n",
    "                d[magazine[i]] = 1\n",
    "        for i in range(len(ransomNote)):\n",
    "            try:\n",
    "                d[ransomNote[i]] -= 1\n",
    "                if d[ransomNote[i]] < 0:\n",
    "                    return false\n",
    "            except:\n",
    "                return False\n",
    "        \n",
    "        return True"
   ]
  },
  {
   "cell_type": "code",
   "execution_count": null,
   "metadata": {
    "collapsed": true
   },
   "outputs": [],
   "source": [
    "canConstruct(\"b\", \"a\")"
   ]
  },
  {
   "cell_type": "code",
   "execution_count": null,
   "metadata": {
    "collapsed": true
   },
   "outputs": [],
   "source": [
    "def repeatedSubstringPattern(str):\n",
    "\n",
    "        \"\"\"\n",
    "        :type str: str\n",
    "        :rtype: bool\n",
    "        \"\"\"\n",
    "        if not str:\n",
    "            return False\n",
    "            \n",
    "        ss = (str + str)[1:-1]\n",
    "        return ss.find(str) != -1\n"
   ]
  },
  {
   "cell_type": "code",
   "execution_count": null,
   "metadata": {
    "collapsed": true
   },
   "outputs": [],
   "source": [
    "repeatedSubstringPattern(\"ababcdcdbab\")"
   ]
  },
  {
   "cell_type": "code",
   "execution_count": 41,
   "metadata": {
    "collapsed": true
   },
   "outputs": [],
   "source": [
    "def countSegments(s):\n",
    "        \"\"\"\n",
    "        :type s: str\n",
    "        :rtype: int\n",
    "        \"\"\"\n",
    "        segment_count = 0\n",
    "\n",
    "        for i in range(len(s)):\n",
    "            if (i == 0 or s[i-1] == ' ') and s[i] != ' ':\n",
    "                segment_count += 1\n",
    "\n",
    "        return segment_count"
   ]
  },
  {
   "cell_type": "code",
   "execution_count": 43,
   "metadata": {},
   "outputs": [
    {
     "data": {
      "text/plain": [
       "5"
      ]
     },
     "execution_count": 43,
     "metadata": {},
     "output_type": "execute_result"
    }
   ],
   "source": [
    "countSegments(\"   Hello,       my name is John      \")"
   ]
  },
  {
   "cell_type": "code",
   "execution_count": 44,
   "metadata": {
    "collapsed": true
   },
   "outputs": [],
   "source": [
    "def repeatedStringMatch(A, B):\n",
    "        \"\"\"\n",
    "        :type A: str\n",
    "        :type B: str\n",
    "        :rtype: int\n",
    "        \"\"\"\n",
    "        lenA = len(A)\n",
    "        lenB = len(B)\n",
    "        reps = lenB/lenA\n",
    "        if reps <= 1:\n",
    "            if B in A: return 1\n",
    "            elif B in A*reps: return reps\n",
    "            elif B in A*reps + A: return reps+1\n",
    "            elif B in A*reps + A + A: return reps+2\n",
    "        else:\n",
    "            if B in A: return 1\n",
    "            elif B in A*reps: return reps\n",
    "            elif B in A*reps + A: return reps+1\n",
    "            elif B in A*reps + A + A: return reps+2\n",
    "        \n",
    "        return -1"
   ]
  },
  {
   "cell_type": "code",
   "execution_count": 53,
   "metadata": {},
   "outputs": [
    {
     "data": {
      "text/plain": [
       "1"
      ]
     },
     "execution_count": 53,
     "metadata": {},
     "output_type": "execute_result"
    }
   ],
   "source": [
    "repeatedStringMatch(\"abc\",\"a\")"
   ]
  },
  {
   "cell_type": "code",
   "execution_count": 1,
   "metadata": {
    "collapsed": true
   },
   "outputs": [],
   "source": [
    "def maxSubArray(nums):\n",
    "        \"\"\"\n",
    "        :type nums: List[int]\n",
    "        :rtype: int\n",
    "        \"\"\"\n",
    "        \n",
    "        running_total = maximum = nums[0]\n",
    "        \n",
    "        for i in range(1,len(nums)):\n",
    "            running_total = max(nums[i], running_total+nums[i])\n",
    "            maximum = max(maximum, running_total)\n",
    "        return maximum"
   ]
  },
  {
   "cell_type": "code",
   "execution_count": 2,
   "metadata": {},
   "outputs": [
    {
     "data": {
      "text/plain": [
       "6"
      ]
     },
     "execution_count": 2,
     "metadata": {},
     "output_type": "execute_result"
    }
   ],
   "source": [
    "maxSubArray([-2,1,-3,4,-1,2,1,-5,4])"
   ]
  },
  {
   "cell_type": "code",
   "execution_count": 9,
   "metadata": {},
   "outputs": [],
   "source": [
    "d = {'A':0,'B':1}"
   ]
  },
  {
   "cell_type": "code",
   "execution_count": 11,
   "metadata": {},
   "outputs": [],
   "source": [
    "def singleNumber(self, nums):\n",
    "        \"\"\"\n",
    "        :type nums: List[int]\n",
    "        :rtype: int\n",
    "        \"\"\"\n",
    "        d = {}\n",
    "        for i in range(len(nums)):\n",
    "            try:\n",
    "                d.pop(nums[i])\n",
    "            except:\n",
    "                d[nums[i]] = 1\n",
    "        return d.popitem()[0]"
   ]
  },
  {
   "cell_type": "code",
   "execution_count": 12,
   "metadata": {
    "collapsed": true
   },
   "outputs": [],
   "source": [
    "s = set([1,2,3])"
   ]
  },
  {
   "cell_type": "code",
   "execution_count": 14,
   "metadata": {},
   "outputs": [
    {
     "name": "stdout",
     "output_type": "stream",
     "text": [
      "set([1, 2, 3])\n"
     ]
    }
   ],
   "source": [
    "if 2 in s:\n",
    "    print s"
   ]
  },
  {
   "cell_type": "code",
   "execution_count": 17,
   "metadata": {
    "collapsed": true
   },
   "outputs": [],
   "source": [
    "def findTheDifference(s, t):\n",
    "        \"\"\"\n",
    "        :type s: str\n",
    "        :type t: str\n",
    "        :rtype: str\n",
    "        \"\"\"\n",
    "        s = set(s)\n",
    "        for i in t:\n",
    "            if i not in s:\n",
    "                return i"
   ]
  },
  {
   "cell_type": "code",
   "execution_count": 18,
   "metadata": {},
   "outputs": [
    {
     "data": {
      "text/plain": [
       "'e'"
      ]
     },
     "execution_count": 18,
     "metadata": {},
     "output_type": "execute_result"
    }
   ],
   "source": [
    "findTheDifference(\"abcd\",\"abcde\")"
   ]
  },
  {
   "cell_type": "code",
   "execution_count": 20,
   "metadata": {
    "collapsed": true
   },
   "outputs": [],
   "source": [
    "def maxProfit(self, prices):\n",
    "        \"\"\"\n",
    "        :type prices: List[int]\n",
    "        :rtype: int\n",
    "        \"\"\"\n",
    "        profit = 0\n",
    "        for i in range(1,len(prices)):\n",
    "            if prices[i] > prices[i-1]:\n",
    "                profit += prices[i] - prices[i-1]\n",
    "        \n",
    "        return profit"
   ]
  },
  {
   "cell_type": "code",
   "execution_count": 21,
   "metadata": {
    "collapsed": true
   },
   "outputs": [],
   "source": [
    "def majorityElement(self, nums):\n",
    "        \"\"\"\n",
    "        :type nums: List[int]\n",
    "        :rtype: int\n",
    "        \"\"\"\n",
    "        d = {}\n",
    "        for i in nums:\n",
    "            try:\n",
    "                d[i] += 1\n",
    "            except:\n",
    "                d[i] = 1\n",
    "        print d\n",
    "        for i in d.keys():\n",
    "            if d[i]*1.0/len(nums) > 0.5:\n",
    "                return i"
   ]
  },
  {
   "cell_type": "code",
   "execution_count": 32,
   "metadata": {},
   "outputs": [
    {
     "data": {
      "text/plain": [
       "{'B': 1}"
      ]
     },
     "execution_count": 32,
     "metadata": {},
     "output_type": "execute_result"
    }
   ],
   "source": [
    "d"
   ]
  },
  {
   "cell_type": "code",
   "execution_count": 33,
   "metadata": {},
   "outputs": [
    {
     "name": "stdout",
     "output_type": "stream",
     "text": [
      "0 B\n"
     ]
    }
   ],
   "source": [
    "for key,value in zip(d.keys(),d.values()):\n",
    "    print i,j"
   ]
  },
  {
   "cell_type": "code",
   "execution_count": 34,
   "metadata": {},
   "outputs": [
    {
     "data": {
      "text/plain": [
       "['B']"
      ]
     },
     "execution_count": 34,
     "metadata": {},
     "output_type": "execute_result"
    }
   ],
   "source": [
    "d.keys()"
   ]
  },
  {
   "cell_type": "code",
   "execution_count": 35,
   "metadata": {},
   "outputs": [
    {
     "data": {
      "text/plain": [
       "[1]"
      ]
     },
     "execution_count": 35,
     "metadata": {},
     "output_type": "execute_result"
    }
   ],
   "source": [
    "d.values()"
   ]
  },
  {
   "cell_type": "code",
   "execution_count": 36,
   "metadata": {},
   "outputs": [
    {
     "data": {
      "text/plain": [
       "[('B', 1)]"
      ]
     },
     "execution_count": 36,
     "metadata": {},
     "output_type": "execute_result"
    }
   ],
   "source": [
    "zip(d.keys(),d.values())"
   ]
  },
  {
   "cell_type": "code",
   "execution_count": 37,
   "metadata": {},
   "outputs": [
    {
     "name": "stdout",
     "output_type": "stream",
     "text": [
      "B 1\n"
     ]
    }
   ],
   "source": [
    "for i,j in zip(d.keys(),d.values()):\n",
    "    print i,j"
   ]
  },
  {
   "cell_type": "code",
   "execution_count": 41,
   "metadata": {},
   "outputs": [],
   "source": [
    "def containsNearbyDuplicate(self, nums, k):\n",
    "        \"\"\"\n",
    "        :type nums: List[int]\n",
    "        :type k: int\n",
    "        :rtype: bool\n",
    "        \"\"\"\n",
    "        dic = dict()\n",
    "        for i, v in enumerate(nums):\n",
    "            if v in dic and i - dic[v] <= k:\n",
    "                return True\n",
    "            dic[v] = i\n",
    "        return False"
   ]
  },
  {
   "cell_type": "code",
   "execution_count": 42,
   "metadata": {
    "collapsed": true
   },
   "outputs": [],
   "source": [
    " def findDisappearedNumbers(self, nums):\n",
    "        \"\"\"\n",
    "        :type nums: List[int]\n",
    "        :rtype: List[int]\n",
    "        \"\"\"\n",
    "        \n",
    "        for n in nums:\n",
    "            nums[abs(n) - 1] = - abs(nums[abs(n) - 1])\n",
    "        output = []\n",
    "        for i in range(len(nums)):\n",
    "            if nums[i] > 0:\n",
    "                output.append(i+1)\n",
    "        return output"
   ]
  },
  {
   "cell_type": "code",
   "execution_count": 43,
   "metadata": {
    "collapsed": true
   },
   "outputs": [],
   "source": [
    "def findMaxConsecutiveOnes(self, nums):\n",
    "        \"\"\"\n",
    "        :type nums: List[int]\n",
    "        :rtype: int\n",
    "        \"\"\"\n",
    "        s = 0\n",
    "        c = 0\n",
    "        for i in nums:\n",
    "            if i == 1:\n",
    "                c += 1\n",
    "            else:\n",
    "                s = max(c,s)\n",
    "                c = 0\n",
    "        if i == 1:\n",
    "            s = max(c,s)\n",
    "        return s"
   ]
  },
  {
   "cell_type": "code",
   "execution_count": 44,
   "metadata": {
    "collapsed": true
   },
   "outputs": [],
   "source": [
    "def findMaxConsecutiveOnes(self, nums):\n",
    "        \"\"\"\n",
    "        :type nums: List[int]\n",
    "        :rtype: int\n",
    "        \"\"\"\n",
    "        #return len(sorted(''.join(str(x) for x in nums).split('0'))[-1])\n",
    "        return len(max(''.join(map(str, nums)).split('0')))"
   ]
  },
  {
   "cell_type": "code",
   "execution_count": 45,
   "metadata": {
    "collapsed": true
   },
   "outputs": [],
   "source": [
    "def detectCapitalUse(self, word):\n",
    "        \"\"\"\n",
    "        :type word: str\n",
    "        :rtype: bool\n",
    "        \"\"\"\n",
    "        return word.islower() or word.isupper() or (len(word) > 1 and word[1:].islower())\n",
    "        return False"
   ]
  },
  {
   "cell_type": "code",
   "execution_count": 58,
   "metadata": {},
   "outputs": [
    {
     "name": "stdout",
     "output_type": "stream",
     "text": [
      "1\n"
     ]
    }
   ],
   "source": [
    "for j in range(1,0,-1):\n",
    "    print j"
   ]
  },
  {
   "cell_type": "code",
   "execution_count": 83,
   "metadata": {},
   "outputs": [],
   "source": [
    "def compress(chars):\n",
    "        \"\"\"\n",
    "        :type chars: List[str]\n",
    "        :rtype: int\n",
    "        \"\"\"\n",
    "        count = 0\n",
    "        index = 0 \n",
    "        for i in range(len(chars)-1):\n",
    "            print (len(chars)-2)\n",
    "            print i\n",
    "            if chars[i] == chars[i+1]:\n",
    "                count += 1\n",
    "            elif count == 0:\n",
    "                chars[index] = str(chars[i])\n",
    "                count = 0\n",
    "                index += 1\n",
    "            elif count > 0:\n",
    "                chars[index] = chars[i]\n",
    "                index += 1\n",
    "                multiplier = len(str(count))-1 #10 - 1 100 - 2\n",
    "                for j in xrange(multiplier,0,-1):\n",
    "                    chars[index] = str(count//10*multiplier)\n",
    "                    index += 1\n",
    "                chars[index] = str((count+1)%10)\n",
    "                index += 1\n",
    "                count = 0\n",
    "            elif i == len(chars)-2:\n",
    "                chars[index] = chars[i]\n",
    "                index += 1\n",
    "                multiplier = len(str(count))-1 #10 - 1 100 - 2\n",
    "                for j in xrange(multiplier,0,-1):\n",
    "                    chars[index] = str(count//10*multiplier)\n",
    "                    index += 1\n",
    "                chars[index] = str((count+1)%10)\n",
    "                index += 1\n",
    "                count = 0\n",
    "            print chars\n",
    "            # print index\n",
    "        return index"
   ]
  },
  {
   "cell_type": "code",
   "execution_count": 84,
   "metadata": {},
   "outputs": [
    {
     "name": "stdout",
     "output_type": "stream",
     "text": [
      "5\n",
      "0\n",
      "['a', 'a', 'b', 'b', 'c', 'c', 'c']\n",
      "5\n",
      "1\n",
      "['a', '2', 'b', 'b', 'c', 'c', 'c']\n",
      "5\n",
      "2\n",
      "['a', '2', 'b', 'b', 'c', 'c', 'c']\n",
      "5\n",
      "3\n",
      "['a', '2', 'b', '2', 'c', 'c', 'c']\n",
      "5\n",
      "4\n",
      "['a', '2', 'b', '2', 'c', 'c', 'c']\n",
      "5\n",
      "5\n",
      "['a', '2', 'b', '2', 'c', 'c', 'c']\n"
     ]
    },
    {
     "data": {
      "text/plain": [
       "4"
      ]
     },
     "execution_count": 84,
     "metadata": {},
     "output_type": "execute_result"
    }
   ],
   "source": [
    "compress([\"a\",\"a\",\"b\",\"b\",\"c\",\"c\",\"c\"])"
   ]
  },
  {
   "cell_type": "code",
   "execution_count": 85,
   "metadata": {
    "collapsed": true
   },
   "outputs": [],
   "source": [
    "def findLUSlength(self, a, b):\n",
    "        \"\"\"\n",
    "        :type a: str\n",
    "        :type b: str\n",
    "        :rtype: int\n",
    "        \"\"\"\n",
    "        return -1 if b == a else max(len(a), len(b))"
   ]
  },
  {
   "cell_type": "code",
   "execution_count": 86,
   "metadata": {},
   "outputs": [],
   "source": [
    "def reverseWords(self, s):\n",
    "        \"\"\"\n",
    "        :type s: str\n",
    "        :rtype: str\n",
    "        \"\"\"\n",
    "        return \" \".join(word[::-1] for word in s.split(' '))"
   ]
  },
  {
   "cell_type": "code",
   "execution_count": 87,
   "metadata": {
    "collapsed": true
   },
   "outputs": [],
   "source": [
    "def checkRecord(self, s):\n",
    "        \"\"\"\n",
    "        :type s: str\n",
    "        :rtype: bool\n",
    "        \"\"\"\n",
    "        absent = 0\n",
    "        for i in range(len(s)):\n",
    "            try:\n",
    "                if s[i] == 'A':\n",
    "                    if absent == 1:\n",
    "                        return False\n",
    "                    else:\n",
    "                        absent += 1\n",
    "                elif s[i] == 'L' and s[i+1] == 'L' and s[i+2] == 'L':\n",
    "                    return False\n",
    "            except:\n",
    "                if s[i] == 'A':\n",
    "                    if absent == 1:\n",
    "                        return False\n",
    "                \n",
    "        return True\n",
    "        "
   ]
  },
  {
   "cell_type": "code",
   "execution_count": 89,
   "metadata": {},
   "outputs": [],
   "source": [
    "def validPalindrome(self, s):\n",
    "        \"\"\"\n",
    "        :type s: str\n",
    "        :rtype: bool\n",
    "        \"\"\"\n",
    "        None\n",
    "        i = 0\n",
    "        j = len(s)-1\n",
    "        while i < j:\n",
    "            if s[i]  != s[j]:\n",
    "                return self.check_palindrome(s[i+1:j+1]) or self.check_palindrome(s[i:j])\n",
    "            i, j = i+1, j-1\n",
    "        return True\n",
    "    \n",
    "        def check_palindrome(self, s):\n",
    "            return s == s[::-1]"
   ]
  },
  {
   "cell_type": "code",
   "execution_count": 90,
   "metadata": {
    "collapsed": true
   },
   "outputs": [],
   "source": [
    "class Solution(object):\n",
    "    def countBinarySubstrings(self, s):\n",
    "        ans, prev, cur = 0, 0, 1\n",
    "        for i in xrange(1, len(s)):\n",
    "            if s[i-1] != s[i]:\n",
    "                ans += min(prev, cur)\n",
    "                prev, cur = cur, 1\n",
    "            else:\n",
    "                cur += 1\n",
    "\n",
    "        return ans + min(prev, cur)"
   ]
  },
  {
   "cell_type": "code",
   "execution_count": 91,
   "metadata": {
    "collapsed": true
   },
   "outputs": [],
   "source": [
    "def firstUniqChar(self, s):\n",
    "        \"\"\"\n",
    "        :type s: str\n",
    "        :rtype: int\n",
    "        \"\"\"\n",
    "        l = [s.index(i) for i in set(s) if s.count(i) == 1]\n",
    "        if len(l)>0:\n",
    "            return min(l)\n",
    "        else:\n",
    "            return -1"
   ]
  },
  {
   "cell_type": "code",
   "execution_count": null,
   "metadata": {
    "collapsed": true
   },
   "outputs": [],
   "source": []
  }
 ],
 "metadata": {
  "kernelspec": {
   "display_name": "Python 2",
   "language": "python",
   "name": "python2"
  },
  "language_info": {
   "codemirror_mode": {
    "name": "ipython",
    "version": 2
   },
   "file_extension": ".py",
   "mimetype": "text/x-python",
   "name": "python",
   "nbconvert_exporter": "python",
   "pygments_lexer": "ipython2",
   "version": "2.7.10"
  }
 },
 "nbformat": 4,
 "nbformat_minor": 2
}
