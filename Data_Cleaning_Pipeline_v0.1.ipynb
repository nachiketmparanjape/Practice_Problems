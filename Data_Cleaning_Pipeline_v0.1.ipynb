{
 "cells": [
  {
   "cell_type": "code",
   "execution_count": 1,
   "metadata": {
    "collapsed": true
   },
   "outputs": [],
   "source": [
    "import pandas as pd\n",
    "\n",
    "from bs4 import BeautifulSoup\n",
    "import requests\n",
    "\n",
    "from nltk.corpus import stopwords\n",
    "from nltk.stem.snowball import SnowballStemmer\n",
    "from string import ascii_lowercase"
   ]
  },
  {
   "cell_type": "code",
   "execution_count": 141,
   "metadata": {},
   "outputs": [
    {
     "name": "stdout",
     "output_type": "stream",
     "text": [
      "https://wsearch.nlm.nih.gov/ws/query?db=healthTopics&term=asthma&rettype=brief\n",
      "https://www.ncbi.nlm.nih.gov/pmc/oai/oai.cgi?verb=ListRecords&from=2018-01-22&until=2018-06-22&set=bmcbioc&metadataPrefix=pmc\n"
     ]
    }
   ],
   "source": [
    "# for a particular disease\n",
    "disease = 'asthma'\n",
    "begin_date = '2018-01-22'\n",
    "end_date = '2018-06-22'\n",
    "\n",
    "url = 'https://wsearch.nlm.nih.gov/ws/query?db=healthTopics&term='+ disease+\\\n",
    "    '&rettype=brief'\n",
    "url2 = 'https://www.ncbi.nlm.nih.gov/pmc/oai/' +\\\n",
    "      'oai.cgi?verb=ListRecords&from={}&until={}'\\\n",
    "      .format(begin_date, end_date) +\\\n",
    "      '&set=bmcbioc&metadataPrefix=pmc'\n",
    "print (url)\n",
    "print (url2)"
   ]
  },
  {
   "cell_type": "code",
   "execution_count": 142,
   "metadata": {},
   "outputs": [
    {
     "name": "stdout",
     "output_type": "stream",
     "text": [
      "200\n",
      "200\n"
     ]
    }
   ],
   "source": [
    "#do we have a good return status from the site\n",
    "r = requests.get(url)\n",
    "r2 = requests.get(url2)\n",
    "\n",
    "print(r.status_code)\n",
    "print(r2.status_code)"
   ]
  },
  {
   "cell_type": "code",
   "execution_count": 143,
   "metadata": {},
   "outputs": [
    {
     "name": "stdout",
     "output_type": "stream",
     "text": [
      "text/xml; charset=UTF-8\n",
      "text/xml\n"
     ]
    }
   ],
   "source": [
    "print(r.headers['Content-Type'])\n",
    "print(r2.headers['Content-Type'])"
   ]
  },
  {
   "cell_type": "code",
   "execution_count": 147,
   "metadata": {
    "collapsed": true
   },
   "outputs": [],
   "source": [
    "soup1 = BeautifulSoup(r.content, \"xml\")\n",
    "soup2 = BeautifulSoup(r2.content, \"lxml\")"
   ]
  },
  {
   "cell_type": "code",
   "execution_count": 170,
   "metadata": {
    "collapsed": true
   },
   "outputs": [],
   "source": [
    "medline = soup.find_all(\"content\", {\"name\" : \"FullSummary\"})\n",
    "pmcrawdata = soup2.find_all(\"record\")"
   ]
  },
  {
   "cell_type": "code",
   "execution_count": 171,
   "metadata": {},
   "outputs": [],
   "source": [
    "pmc = []\n",
    "for th in pmcrawdata:\n",
    "    pmc.extend(th.find_all(\"abstract\"))"
   ]
  },
  {
   "cell_type": "code",
   "execution_count": 172,
   "metadata": {
    "collapsed": true
   },
   "outputs": [],
   "source": [
    "def textCleaner(summaries):\n",
    "    \"\"\" Takes in a list of bs4.element.tag datatype object are returns a pandas dataframe object \"\"\"\n",
    "    for i in xrange(len(summaries)):\n",
    "        summaries[i] = summaries[i].text\n",
    "        summaries[i] = BeautifulSoup(summaries[i],\"lxml\").text\n",
    "        \n",
    "    return pd.DataFrame(data=summaries,columns=['text'])"
   ]
  },
  {
   "cell_type": "code",
   "execution_count": 173,
   "metadata": {},
   "outputs": [],
   "source": [
    "cleanmedline = textCleaner(medline)"
   ]
  },
  {
   "cell_type": "code",
   "execution_count": 174,
   "metadata": {},
   "outputs": [
    {
     "data": {
      "text/html": [
       "<div>\n",
       "<style scoped>\n",
       "    .dataframe tbody tr th:only-of-type {\n",
       "        vertical-align: middle;\n",
       "    }\n",
       "\n",
       "    .dataframe tbody tr th {\n",
       "        vertical-align: top;\n",
       "    }\n",
       "\n",
       "    .dataframe thead th {\n",
       "        text-align: right;\n",
       "    }\n",
       "</style>\n",
       "<table border=\"1\" class=\"dataframe\">\n",
       "  <thead>\n",
       "    <tr style=\"text-align: right;\">\n",
       "      <th></th>\n",
       "      <th>text</th>\n",
       "    </tr>\n",
       "  </thead>\n",
       "  <tbody>\n",
       "    <tr>\n",
       "      <th>0</th>\n",
       "      <td>Asthma is a chronic disease that affects your ...</td>\n",
       "    </tr>\n",
       "    <tr>\n",
       "      <th>1</th>\n",
       "      <td>Asthma is a chronic disease that affects your ...</td>\n",
       "    </tr>\n",
       "    <tr>\n",
       "      <th>2</th>\n",
       "      <td>An allergy is a reaction by your immune system...</td>\n",
       "    </tr>\n",
       "    <tr>\n",
       "      <th>3</th>\n",
       "      <td>Each spring, summer, and fall, trees, weeds, a...</td>\n",
       "    </tr>\n",
       "    <tr>\n",
       "      <th>4</th>\n",
       "      <td>Molds are fungi that can be found both outdoor...</td>\n",
       "    </tr>\n",
       "  </tbody>\n",
       "</table>\n",
       "</div>"
      ],
      "text/plain": [
       "                                                text\n",
       "0  Asthma is a chronic disease that affects your ...\n",
       "1  Asthma is a chronic disease that affects your ...\n",
       "2  An allergy is a reaction by your immune system...\n",
       "3  Each spring, summer, and fall, trees, weeds, a...\n",
       "4  Molds are fungi that can be found both outdoor..."
      ]
     },
     "execution_count": 174,
     "metadata": {},
     "output_type": "execute_result"
    }
   ],
   "source": [
    "cleanmedline.head()"
   ]
  },
  {
   "cell_type": "code",
   "execution_count": 175,
   "metadata": {
    "collapsed": true
   },
   "outputs": [],
   "source": [
    "cleanedPMC = summaryCleaner(pmc)"
   ]
  },
  {
   "cell_type": "code",
   "execution_count": 181,
   "metadata": {},
   "outputs": [
    {
     "data": {
      "text/html": [
       "<div>\n",
       "<style scoped>\n",
       "    .dataframe tbody tr th:only-of-type {\n",
       "        vertical-align: middle;\n",
       "    }\n",
       "\n",
       "    .dataframe tbody tr th {\n",
       "        vertical-align: top;\n",
       "    }\n",
       "\n",
       "    .dataframe thead th {\n",
       "        text-align: right;\n",
       "    }\n",
       "</style>\n",
       "<table border=\"1\" class=\"dataframe\">\n",
       "  <thead>\n",
       "    <tr style=\"text-align: right;\">\n",
       "      <th></th>\n",
       "      <th>list</th>\n",
       "      <th>text</th>\n",
       "    </tr>\n",
       "  </thead>\n",
       "  <tbody>\n",
       "    <tr>\n",
       "      <th>0</th>\n",
       "      <td>[background\\nenzym, display, high, reactiv, se...</td>\n",
       "      <td>background\\nenzymes display high reactivity an...</td>\n",
       "    </tr>\n",
       "    <tr>\n",
       "      <th>1</th>\n",
       "      <td>[background\\nan, import, step, human, immunode...</td>\n",
       "      <td>background\\nan important step in human immunod...</td>\n",
       "    </tr>\n",
       "    <tr>\n",
       "      <th>2</th>\n",
       "      <td>[background\\ncorynebacterium, urealyticum, pat...</td>\n",
       "      <td>background\\ncorynebacterium urealyticum  a pat...</td>\n",
       "    </tr>\n",
       "    <tr>\n",
       "      <th>3</th>\n",
       "      <td>NaN</td>\n",
       "      <td>Asthma is a chronic disease that affects your ...</td>\n",
       "    </tr>\n",
       "    <tr>\n",
       "      <th>4</th>\n",
       "      <td>NaN</td>\n",
       "      <td>Asthma is a chronic disease that affects your ...</td>\n",
       "    </tr>\n",
       "    <tr>\n",
       "      <th>5</th>\n",
       "      <td>NaN</td>\n",
       "      <td>An allergy is a reaction by your immune system...</td>\n",
       "    </tr>\n",
       "    <tr>\n",
       "      <th>6</th>\n",
       "      <td>NaN</td>\n",
       "      <td>Each spring, summer, and fall, trees, weeds, a...</td>\n",
       "    </tr>\n",
       "    <tr>\n",
       "      <th>7</th>\n",
       "      <td>NaN</td>\n",
       "      <td>Molds are fungi that can be found both outdoor...</td>\n",
       "    </tr>\n",
       "    <tr>\n",
       "      <th>8</th>\n",
       "      <td>NaN</td>\n",
       "      <td>Occupational health problems occur at work or ...</td>\n",
       "    </tr>\n",
       "    <tr>\n",
       "      <th>9</th>\n",
       "      <td>NaN</td>\n",
       "      <td>Ozone is a gas. It can be good or bad, dependi...</td>\n",
       "    </tr>\n",
       "    <tr>\n",
       "      <th>10</th>\n",
       "      <td>NaN</td>\n",
       "      <td>COPD (chronic obstructive pulmonary disease) m...</td>\n",
       "    </tr>\n",
       "    <tr>\n",
       "      <th>11</th>\n",
       "      <td>NaN</td>\n",
       "      <td>Our environment affects our health. If parts o...</td>\n",
       "    </tr>\n",
       "    <tr>\n",
       "      <th>12</th>\n",
       "      <td>NaN</td>\n",
       "      <td>Food allergy is an abnormal response to a food...</td>\n",
       "    </tr>\n",
       "  </tbody>\n",
       "</table>\n",
       "</div>"
      ],
      "text/plain": [
       "                                                 list  \\\n",
       "0   [background\\nenzym, display, high, reactiv, se...   \n",
       "1   [background\\nan, import, step, human, immunode...   \n",
       "2   [background\\ncorynebacterium, urealyticum, pat...   \n",
       "3                                                 NaN   \n",
       "4                                                 NaN   \n",
       "5                                                 NaN   \n",
       "6                                                 NaN   \n",
       "7                                                 NaN   \n",
       "8                                                 NaN   \n",
       "9                                                 NaN   \n",
       "10                                                NaN   \n",
       "11                                                NaN   \n",
       "12                                                NaN   \n",
       "\n",
       "                                                 text  \n",
       "0   background\\nenzymes display high reactivity an...  \n",
       "1   background\\nan important step in human immunod...  \n",
       "2   background\\ncorynebacterium urealyticum  a pat...  \n",
       "3   Asthma is a chronic disease that affects your ...  \n",
       "4   Asthma is a chronic disease that affects your ...  \n",
       "5   An allergy is a reaction by your immune system...  \n",
       "6   Each spring, summer, and fall, trees, weeds, a...  \n",
       "7   Molds are fungi that can be found both outdoor...  \n",
       "8   Occupational health problems occur at work or ...  \n",
       "9   Ozone is a gas. It can be good or bad, dependi...  \n",
       "10  COPD (chronic obstructive pulmonary disease) m...  \n",
       "11  Our environment affects our health. If parts o...  \n",
       "12  Food allergy is an abnormal response to a food...  "
      ]
     },
     "execution_count": 181,
     "metadata": {},
     "output_type": "execute_result"
    }
   ],
   "source": [
    "cleaned_summaries = cleanedPMC\n",
    "cleaned_summaries.append(cleanmedline,ignore_index='True')"
   ]
  },
  {
   "cell_type": "code",
   "execution_count": 182,
   "metadata": {
    "collapsed": true
   },
   "outputs": [],
   "source": [
    "#Stemmer\n",
    "stemmer = SnowballStemmer('english')\n",
    "def stemsList(l):\n",
    "    \"\"\" Input : list ; Output : list of stemmed words \"\"\"\n",
    "    return list(map(lambda x: stemmer.stem(x), l))\n",
    "\n",
    "\n",
    "#stopwords\n",
    "stop = stopwords.words('english')\n",
    "otherstop = set(['','\\n'])\n",
    "stop = set(stemsList(stop))\n",
    "stop = stop | otherstop\n",
    "def removeStopwords(s):\n",
    "    return [w for w in s.split(' ') if w not in stop]\n",
    "\n",
    "#cleantext\n",
    "cleaned_summaries['text'].replace('[!\"#%\\'()*+,./:;<=>?@\\[\\]^_`{|}~’”“′‘\\\\\\]',' ',inplace=True,regex=True) # remove characters\n",
    "cleaned_summaries['text'].replace('\\n',' ',inplace=True,regex=True) # remove characters\n",
    "cleaned_summaries['text'] = cleaned_summaries['text'].map(lambda x: x.lower()) # lower case\n",
    "cleaned_summaries['list'] = cleaned_summaries['text'].map(lambda s: stemsList(removeStopwords(s)))"
   ]
  },
  {
   "cell_type": "code",
   "execution_count": 183,
   "metadata": {},
   "outputs": [
    {
     "data": {
      "text/plain": [
       "u'background enzymes display high reactivity and selectivity under natural conditions  but may suffer from decreased efficiency in industrial applications  a strategy to address this limitation is to immobilize the enzyme  mesoporous silica materials offer unique properties as an immobilization support  such as high surface area and tunable pore size    results the performance of a commercially available feruloyl esterase  e-faeru  immobilized on mesoporous silica by physical adsorption was evaluated for its transesterification ability  we optimized the immobilization conditions by varying the support pore size  the immobilization buffer and its ph  maximum loading and maximum activity were achieved at different phs  4 0 and 6 0 respectively   selectivity  shown by the transesterification hydrolysis products molar ratio  varied more than 3-fold depending on the reaction buffer used and its ph  under all conditions studied  hydrolysis was the dominant activity of the enzyme  ph and water content had the greatest influence on the enzyme selectivity and activity  determined kinetic parameters of the enzyme were obtained and\\xa0showed that km was not affected by the immobilization but kcat was reduced 10-fold when comparing the free and immobilized enzymes  thermal and ph stabilities as well as the reusability were investigated  the immobilized biocatalyst retained more than 20  of its activity after ten cycles of transesterification reaction    conclusions these results indicate that this enzyme is more suited for hydrolysis reactions than transesterification despite good reusability  furthermore  it was found that the immobilization conditions are crucial for optimal enzyme activity as they can alter the enzyme performance    electronic supplementary material the online version of this article  10 1186 s12858-018-0091-y  contains supplementary material  which is available to authorized users   '"
      ]
     },
     "execution_count": 183,
     "metadata": {},
     "output_type": "execute_result"
    }
   ],
   "source": [
    "cleaned_summaries.text[0]"
   ]
  },
  {
   "cell_type": "code",
   "execution_count": 184,
   "metadata": {},
   "outputs": [
    {
     "name": "stdout",
     "output_type": "stream",
     "text": [
      "[u'background', u'enzym', u'display', u'high', u'reactiv', u'select', u'natur', u'condit', u'may', u'suffer', u'decreas', u'effici', u'industri', u'applic', u'strategi', u'address', u'limit', u'immobil', u'enzym', u'mesopor', u'silica', u'materi', u'offer', u'uniqu', u'properti', u'immobil', u'support', u'high', u'surfac', u'area', u'tunabl', u'pore', u'size', u'result', u'perform', u'commerci', u'avail', u'feruloyl', u'esteras', u'e-faeru', u'immobil', u'mesopor', u'silica', u'physic', u'adsorpt', u'evalu', u'it', u'transesterif', u'abil', u'optim', u'immobil', u'condit', u'vari', u'support', u'pore', u'size', u'immobil', u'buffer', u'it', u'ph', u'maximum', u'load', u'maximum', u'activ', u'achiev', u'differ', u'phs', u'4', u'0', u'6', u'0', u'respect', u'select', u'shown', u'transesterif', u'hydrolysi', u'product', u'molar', u'ratio', u'vari', u'3-fold', u'depend', u'reaction', u'buffer', u'use', u'it', u'ph', u'condit', u'studi', u'hydrolysi', u'domin', u'activ', u'enzym', u'ph', u'water', u'content', u'greatest', u'influenc', u'enzym', u'select', u'activ', u'determin', u'kinet', u'paramet', u'enzym', u'obtain', u'and\\xa0show', u'km', u'affect', u'immobil', u'kcat', u'reduc', u'10-fold', u'compar', u'free', u'immobil', u'enzym', u'thermal', u'ph', u'stabil', u'well', u'reusabl', u'investig', u'immobil', u'biocatalyst', u'retain', u'20', u'it', u'activ', u'ten', u'cycl', u'transesterif', u'reaction', u'conclus', u'result', u'indic', u'enzym', u'suit', u'hydrolysi', u'reaction', u'transesterif', u'despit', u'good', u'reusabl', u'furthermor', u'found', u'immobil', u'condit', u'crucial', u'optim', u'enzym', u'activ', u'alter', u'enzym', u'perform', u'electron', u'supplementari', u'materi', u'onlin', u'version', u'articl', u'10', u'1186', u's12858-018-0091-i', u'contain', u'supplementari', u'materi', u'avail', u'author', u'user']\n"
     ]
    }
   ],
   "source": [
    "print(cleaned_summaries.list[0])"
   ]
  },
  {
   "cell_type": "code",
   "execution_count": null,
   "metadata": {
    "collapsed": true
   },
   "outputs": [],
   "source": []
  }
 ],
 "metadata": {
  "kernelspec": {
   "display_name": "Python 2",
   "language": "python",
   "name": "python2"
  },
  "language_info": {
   "codemirror_mode": {
    "name": "ipython",
    "version": 2
   },
   "file_extension": ".py",
   "mimetype": "text/x-python",
   "name": "python",
   "nbconvert_exporter": "python",
   "pygments_lexer": "ipython2",
   "version": "2.7.10"
  }
 },
 "nbformat": 4,
 "nbformat_minor": 2
}
