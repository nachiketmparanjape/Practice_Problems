{
 "cells": [
  {
   "cell_type": "markdown",
   "metadata": {},
   "source": [
    "# 1. Anagrams"
   ]
  },
  {
   "cell_type": "code",
   "execution_count": null,
   "metadata": {
    "collapsed": true
   },
   "outputs": [],
   "source": []
  },
  {
   "cell_type": "markdown",
   "metadata": {},
   "source": [
    "# 2. Sum of Numbers from a List"
   ]
  },
  {
   "cell_type": "code",
   "execution_count": null,
   "metadata": {
    "collapsed": true
   },
   "outputs": [],
   "source": []
  },
  {
   "cell_type": "markdown",
   "metadata": {},
   "source": [
    "# 3. Find Missing Elements"
   ]
  },
  {
   "cell_type": "code",
   "execution_count": 1,
   "metadata": {},
   "outputs": [],
   "source": [
    "from collections import defaultdict\n",
    "def find_missing(l1,l2):\n",
    "    \"\"\" Find missing elements from the two lists \"\"\"\n",
    "    \n",
    "    d = defaultdict(int)\n",
    "    \n",
    "    for e in l2:\n",
    "        d[e] += 1\n",
    "    for element in l1:\n",
    "        if d[element] == 0:\n",
    "            return element\n",
    "        else:\n",
    "            d[element] -= 1"
   ]
  },
  {
   "cell_type": "code",
   "execution_count": 2,
   "metadata": {},
   "outputs": [
    {
     "name": "stdout",
     "output_type": "stream",
     "text": [
      "5\n"
     ]
    }
   ],
   "source": [
    "l1 = [2,3,1,5]\n",
    "l2 = [1,2,3]\n",
    "\n",
    "print find_missing(l1,l2)"
   ]
  },
  {
   "cell_type": "markdown",
   "metadata": {},
   "source": [
    "# 4. Largest Continuous Sum"
   ]
  },
  {
   "cell_type": "code",
   "execution_count": 3,
   "metadata": {},
   "outputs": [],
   "source": [
    "def largest_continuous_sum(l):\n",
    "    \"\"\" Find Largest Continous Sum \"\"\"\n",
    "    \n",
    "    if len(l) == 0:\n",
    "        return 0\n",
    "    \n",
    "    cursum = maxsum = l[0] #largest continuous sum temp\n",
    "    start = l[0] #start\n",
    "    end = l[0]\n",
    "    starttemp = l[0] #start temp\n",
    "    \n",
    "    for i in range(1,len(l)):\n",
    "        \n",
    "        cursum = max(cursum+l[i],l[i])\n",
    "        \n",
    "        maxsum = max(cursum,maxsum)\n",
    "                \n",
    "    print maxsum"
   ]
  },
  {
   "cell_type": "code",
   "execution_count": 4,
   "metadata": {},
   "outputs": [
    {
     "name": "stdout",
     "output_type": "stream",
     "text": [
      "52\n"
     ]
    }
   ],
   "source": [
    "l1 = [1,2,-1,3,4,10,10,-5,28]\n",
    "l2 = [1,2,-1,3,4,10,10,-5]\n",
    "l3 = [-1,-2,-5,-10]\n",
    "\n",
    "largest_continuous_sum(l1)"
   ]
  },
  {
   "cell_type": "markdown",
   "metadata": {},
   "source": [
    "# 5. Sentence Reversal"
   ]
  },
  {
   "cell_type": "code",
   "execution_count": 5,
   "metadata": {
    "collapsed": true
   },
   "outputs": [],
   "source": [
    "def sentence_reversal1(string):\n",
    "    return \" \".join(reversed(string.split()))\n",
    "\n",
    "def sentence_reversal2(string):\n",
    "    return \" \".join(string.split()[::-1])"
   ]
  },
  {
   "cell_type": "code",
   "execution_count": 6,
   "metadata": {},
   "outputs": [
    {
     "name": "stdout",
     "output_type": "stream",
     "text": [
      "go? to ready you are John, Hi\n",
      "go? to ready you are John, Hi\n"
     ]
    }
   ],
   "source": [
    "print (sentence_reversal1(\"Hi John,   are you ready to go?\"))\n",
    "print (sentence_reversal2(\"Hi John,   are you ready to go?\"))"
   ]
  },
  {
   "cell_type": "code",
   "execution_count": 84,
   "metadata": {},
   "outputs": [],
   "source": [
    "def splitter(s,on=' '):\n",
    "    \"\"\" Splits sentence into a list of words \"\"\"\n",
    "    \n",
    "    words = []\n",
    "    length = len(s)\n",
    "    space = [on]\n",
    "    i = 0\n",
    "    word = \"\"\n",
    "    \n",
    "    while i < length:\n",
    "        if s[i] not in space:\n",
    "            word = word+s[i]\n",
    "        elif s[i] in space:\n",
    "            if word != \"\":\n",
    "                words.append(word)\n",
    "            word = \"\"\n",
    "        if i == length-1 and word != \"\":\n",
    "            words.append(word)\n",
    "        i += 1\n",
    "    return words\n",
    "\n",
    "def reverser(l):\n",
    "    \"\"\" Reverses a list \"\"\"\n",
    "    if len(l)%2 == 0:\n",
    "        length = len(l) // 2 - 1\n",
    "    else:\n",
    "        length = len(l) // 2\n",
    "        \n",
    "    for i in range(length):\n",
    "        temp = l[len(l)-i-1]\n",
    "        l[len(l)-i-1] = l[i]\n",
    "        l[i] = temp\n",
    "    return ' '.join(l)"
   ]
  },
  {
   "cell_type": "markdown",
   "metadata": {},
   "source": [
    "# 6. String Compression"
   ]
  },
  {
   "cell_type": "code",
   "execution_count": 133,
   "metadata": {},
   "outputs": [],
   "source": [
    "def scompress(s):\n",
    "    length = len(s)\n",
    "    if length == 0:\n",
    "        return \"\"\n",
    "    if length == 1:\n",
    "        return s+\"1\"\n",
    "\n",
    "    output = \"\"\n",
    "    i = 1\n",
    "    counter = 1\n",
    "    while i < length:\n",
    "        \n",
    "        if s[i] == s[i-1]:\n",
    "            counter += 1\n",
    "        else:\n",
    "            output = output + s[i-1] + str(counter)\n",
    "            counter = 1\n",
    "        i += 1\n",
    "    output = output + s[i-1] + str(counter)\n",
    "    return output"
   ]
  },
  {
   "cell_type": "code",
   "execution_count": 134,
   "metadata": {},
   "outputs": [
    {
     "data": {
      "text/plain": [
       "'A2b1'"
      ]
     },
     "execution_count": 134,
     "metadata": {},
     "output_type": "execute_result"
    }
   ],
   "source": [
    "scompress(\"AAb\")"
   ]
  },
  {
   "cell_type": "markdown",
   "metadata": {},
   "source": [
    "# 7. Unique Characters\n",
    "\n",
    "Tell if a string has all unique characters or not"
   ]
  },
  {
   "cell_type": "code",
   "execution_count": 157,
   "metadata": {
    "collapsed": true
   },
   "outputs": [],
   "source": [
    "def is_unique(s):\n",
    "    \n",
    "    d = {}\n",
    "    \n",
    "    for letter in s:\n",
    "        try:\n",
    "            d[letter] += 1\n",
    "            return False\n",
    "        except KeyError:\n",
    "            d[letter] = 1\n",
    "    \n",
    "    return True"
   ]
  },
  {
   "cell_type": "code",
   "execution_count": 161,
   "metadata": {},
   "outputs": [
    {
     "data": {
      "text/plain": [
       "True"
      ]
     },
     "execution_count": 161,
     "metadata": {},
     "output_type": "execute_result"
    }
   ],
   "source": [
    "is_unique(\"abcd\")"
   ]
  },
  {
   "cell_type": "markdown",
   "metadata": {},
   "source": [
    "# 8. Clean String using Regex"
   ]
  },
  {
   "cell_type": "code",
   "execution_count": 199,
   "metadata": {},
   "outputs": [
    {
     "data": {
      "text/plain": [
       "\"It's a sentence\""
      ]
     },
     "execution_count": 199,
     "metadata": {},
     "output_type": "execute_result"
    }
   ],
   "source": [
    "import re\n",
    "\n",
    "def cleanString(s):\n",
    "    return \"\".join(re.findall(r\"[\\w\\d' ]\",s))\n",
    "\n",
    "s = \"It's a &%senten#$%#$^#$%#@ce\"\n",
    "cleanString(s)"
   ]
  },
  {
   "cell_type": "markdown",
   "metadata": {},
   "source": [
    "# 9. Anagram Detection in a sentence"
   ]
  },
  {
   "cell_type": "code",
   "execution_count": 213,
   "metadata": {
    "collapsed": true
   },
   "outputs": [],
   "source": [
    "def anagram_counter(s):\n",
    "    \n",
    "    wordlist = cleanString(s).split()\n",
    "    \n",
    "    d = {}\n",
    "    \n",
    "    for word in wordlist:\n",
    "        word = \"\".join(sorted(word))\n",
    "        try:\n",
    "            d[word] += 1\n",
    "        except KeyError:\n",
    "            d[word] = 0\n",
    "    \n",
    "    return sum(d.values())"
   ]
  },
  {
   "cell_type": "code",
   "execution_count": 214,
   "metadata": {},
   "outputs": [
    {
     "data": {
      "text/plain": [
       "1"
      ]
     },
     "execution_count": 214,
     "metadata": {},
     "output_type": "execute_result"
    }
   ],
   "source": [
    "a = \"abcd bcad xyz\"\n",
    "anagram_counter(a)"
   ]
  }
 ],
 "metadata": {
  "kernelspec": {
   "display_name": "Python 2",
   "language": "python",
   "name": "python2"
  },
  "language_info": {
   "codemirror_mode": {
    "name": "ipython",
    "version": 2
   },
   "file_extension": ".py",
   "mimetype": "text/x-python",
   "name": "python",
   "nbconvert_exporter": "python",
   "pygments_lexer": "ipython2",
   "version": "2.7.10"
  }
 },
 "nbformat": 4,
 "nbformat_minor": 2
}
